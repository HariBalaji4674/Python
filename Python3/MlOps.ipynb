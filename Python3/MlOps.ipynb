{
 "cells": [
  {
   "cell_type": "code",
   "execution_count": null,
   "metadata": {},
   "outputs": [],
   "source": [
    "print(\"Peddireddy Hari Vardhan Reddy\")"
   ]
  },
  {
   "cell_type": "markdown",
   "metadata": {},
   "source": [
    "- Deployement of Data model\n",
    "- Data : Collection of Data\n",
    "- Model: Create a Model\n",
    "- Code : Code the model related to info\n",
    "- Data --> Model --> Code\n",
    "- MLOps --> Set of Practices that aims to deploy and maintain machine learning models in production reliable and efficiently \n",
    "- Data Collection --> Training Model --> Deploy in Production\n",
    "- Extension of Devops with Machine Learning Operations\n",
    "\n",
    "\n",
    "### Post Deployment Issues\n",
    "\n",
    "- Accounting for Latency\n",
    "- It is painfully slow\n",
    "- Model Centric and Data Centric\n",
    "- Accountability \n",
    "- Reliability\n",
    "\n",
    "#### What business Problem it is solving:\n",
    "\n",
    "- The cost of wrong predictions\n",
    "- Breaking Down the Sales Forecasting Process\n",
    "- Estimationg the ROI of AI/ML Implementation\n",
    "- Prioritizing Tasks For AI/ML Implementation\n",
    "- Value Proposition\n",
    "- Data Sources\n",
    "- Prediction Task \n",
    "- Feature Engineering\n",
    "- Offline Evaluation\n",
    "- Decisions\n",
    "- Building Models\n",
    "- Live Evaluaton and Modeling\n",
    "\n",
    "#### When not to implement AI/ML \n",
    "\n",
    "\n",
    "#### Process of Model Data\n",
    "- Data Engineering , Data Engineering Pipeline\n",
    "- Data Model\n",
    "- Data Ingestion\n",
    "- Exploration and Validation\n",
    "- Data Wrangling\n",
    "- Data Labeling\n",
    "- Data Splitting: \n",
    "\n",
    "#### Model Engineering (Writing The algorithims for Data)\n",
    "\n",
    "#### Model Deployment\n",
    "\n",
    "### ZenML: Develop, Execute and Manage\n",
    "\n",
    "\n"
   ]
  },
  {
   "cell_type": "markdown",
   "metadata": {},
   "source": []
  }
 ],
 "metadata": {
  "kernelspec": {
   "display_name": "Python [conda env:base] *",
   "language": "python",
   "name": "conda-base-py"
  }
 },
 "nbformat": 4,
 "nbformat_minor": 2
}

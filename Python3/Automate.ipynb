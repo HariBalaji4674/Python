{
 "cells": [
  {
   "cell_type": "code",
   "execution_count": null,
   "metadata": {},
   "outputs": [],
   "source": [
    "import pandas as pd"
   ]
  },
  {
   "cell_type": "code",
   "execution_count": null,
   "metadata": {},
   "outputs": [],
   "source": [
    "table = pd.read_csv(\"employees.csv\")\n",
    "print(table)"
   ]
  },
  {
   "cell_type": "code",
   "execution_count": null,
   "metadata": {},
   "outputs": [],
   "source": [
    "table.rename(columns={'Hire_Date': 'Join_date','Employee_ID': 'Emp_ID','Department': 'Dept'}, inplace=True)"
   ]
  },
  {
   "cell_type": "code",
   "execution_count": null,
   "metadata": {},
   "outputs": [],
   "source": [
    "table"
   ]
  },
  {
   "cell_type": "code",
   "execution_count": null,
   "metadata": {},
   "outputs": [],
   "source": [
    "import logging as log"
   ]
  },
  {
   "cell_type": "code",
   "execution_count": null,
   "metadata": {},
   "outputs": [],
   "source": [
    "log.basicConfig(\n",
    "    filename=\"app.log\",\n",
    "    filemode=\"w\",\n",
    "    level=log.DEBUG,\n",
    "    format='%(asctime)s-%(name)s-%(levelname)s-%(message)s',\n",
    "    datefmt='%d-%m-%y %H:%M:%S'\n",
    "    )\n",
    "\n",
    "log.error(\"This is error message   \")\n",
    "log.debug(\"This is debug message\")\n",
    "log.warning(\"This is warning message\")\n",
    "log.critical(\"This is critical message\")\n",
    "\n",
    "name  = \"GFG\"\n",
    "log.error(\"%s Raised an Error\", name)\n"
   ]
  },
  {
   "cell_type": "code",
   "execution_count": null,
   "metadata": {},
   "outputs": [],
   "source": [
    "log.basicConfig(\n",
    "    level=log.DEBUG,\n",
    "    filename=\"app.log\",\n",
    "    format=\"%(asctime)s--%(message)s\",\n",
    "    filemode = \"w\",\n",
    ")\n",
    "\n",
    "def performCalculation(value):\n",
    "    if value < 0:\n",
    "        raise ValueError(\"Invalid Value: Value Cannot be negative\")\n",
    "    else:\n",
    "        log.info(\"Operation Performed Succesfully\")\n",
    "\n",
    "\n",
    "try:\n",
    "    input_value = int(input(\"Enter the value: \"))\n",
    "    performCalculation(input_value)\n",
    "except ValueError as ve:\n",
    "    log.exception(\"Error Occurred : %s \",str(ve))"
   ]
  },
  {
   "cell_type": "code",
   "execution_count": 1,
   "metadata": {},
   "outputs": [],
   "source": [
    "import pyspark"
   ]
  },
  {
   "cell_type": "code",
   "execution_count": 3,
   "metadata": {},
   "outputs": [
    {
     "name": "stdout",
     "output_type": "stream",
     "text": [
      "Peddireddy Hari Vardhan Reddy\n"
     ]
    }
   ],
   "source": [
    "print(\"Peddireddy Hari Vardhan Reddy\")"
   ]
  }
 ],
 "metadata": {
  "kernelspec": {
   "display_name": "myvenv",
   "language": "python",
   "name": "python3"
  },
  "language_info": {
   "codemirror_mode": {
    "name": "ipython",
    "version": 3
   },
   "file_extension": ".py",
   "mimetype": "text/x-python",
   "name": "python",
   "nbconvert_exporter": "python",
   "pygments_lexer": "ipython3",
   "version": "3.9.6"
  }
 },
 "nbformat": 4,
 "nbformat_minor": 2
}

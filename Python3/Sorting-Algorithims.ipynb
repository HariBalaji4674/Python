{
 "cells": [
  {
   "cell_type": "code",
   "execution_count": 2,
   "metadata": {},
   "outputs": [
    {
     "name": "stdout",
     "output_type": "stream",
     "text": [
      "Peddireddy Hari Vardhan Reddy\n"
     ]
    }
   ],
   "source": [
    "print(\"Peddireddy Hari Vardhan Reddy\")"
   ]
  },
  {
   "cell_type": "markdown",
   "metadata": {},
   "source": [
    "### Sorting Algorithms\n",
    "\n",
    "* Bubble Sort Algorithms\n",
    "* "
   ]
  },
  {
   "cell_type": "markdown",
   "metadata": {},
   "source": [
    "### Frameworks For Vertex AI\n",
    "\n",
    "* Tensor Flow\n",
    "* PyTorch\n",
    "* Scikit-Learn\n",
    "* Spark\n",
    "* Jax\n",
    "\n",
    "\n",
    "### Frameworks\n",
    "\n",
    "* Vertex AI\n",
    "* Kubeflow Pipelines\n",
    "* Vertex AI\n",
    "* Tensor Borad with TensorFlow\n",
    "* PyTorch\n",
    "\n",
    "## Training Models\n",
    "\n",
    "* Organizing training data (e.g., tabular, text,speech, images, videos) on Google Cloud (e.g., Cloud Storage,BigQuery).\n",
    "\n",
    "* Ingestion of various le types (e.g., CSV,JSON, images, Hadoop, databases) into training.\n",
    "\n",
    "* Training using dierent SDKs (e.g., Veex AI custom training, Kubeow on Google Kubernetes Engine, AutoML, tabular  workflows).\n",
    "\n",
    "* Using distributed training to organize reliable pipelines\n",
    "\n",
    "* Hyperparameter tuning.\n",
    "\n",
    "* Troubleshooting ML model training failures.\n",
    "\n",
    "* Fine-tuning foundational models (e.g.,Veex AI, Model Garden).\n",
    "\n",
    "* Vertex AI , Biguery ML, DataProc , Data Flow\n",
    "\n",
    "* PyTorch XGBoost\n",
    "\n",
    "* A/B Testing Different Models\n",
    "\n",
    "* "
   ]
  },
  {
   "cell_type": "markdown",
   "metadata": {},
   "source": []
  }
 ],
 "metadata": {
  "kernelspec": {
   "display_name": "Python [conda env:base] *",
   "language": "python",
   "name": "conda-base-py"
  }
 },
 "nbformat": 4,
 "nbformat_minor": 2
}
